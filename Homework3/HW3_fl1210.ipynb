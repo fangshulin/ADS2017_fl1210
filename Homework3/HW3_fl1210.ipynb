{
 "cells": [
  {
   "cell_type": "markdown",
   "metadata": {},
   "source": [
    "###### ADS, fall 2017. Homework 3"
   ]
  },
  {
   "cell_type": "markdown",
   "metadata": {},
   "source": [
    "### Q1 (10 points). P-values and hypothesis testing\n",
    "Suppose that a multiple regression with 10 regressors gave the following p-values for each of them (the value below are NOT in percents yet):\n",
    "\n",
    "0.02, 0.1, 3e-15, 0.5, 0.04, 0.001, 0.06, 0.03, 0.045, 5e-3.\n",
    "\n",
    "For how many regressors you would reject the null-hypothesis that their corresponding regression coefficient is zero? Please explain."
   ]
  },
  {
   "cell_type": "markdown",
   "metadata": {},
   "source": [
    "Answer: I will use a significance level  $\\alpha=0.05$. Therefore I will reject null-hypothesis that their corresponding regression coefficient is zero when p-values smaller than 5%. For seven regressors gave p-values of 0.02, 3e-15, 0.04, 0.001, 0.03, 0.045, 5e-3, I would reject the null-hypotheis. "
   ]
  },
  {
   "cell_type": "markdown",
   "metadata": {},
   "source": [
    "### Q2 (15 points). Confidence intervals\n",
    "Assume we perform a regression and get an estimate 100 for the slope coefficient for the regressor of interest. Select all statements that can not be true for its confidence intervals:\n",
    "\n",
    "a. 99%-conficence interval is [99.99,100.01]\n",
    "\n",
    "b. 95%-confidence interval is [-300, 300]\n",
    "\n",
    "c. 98%-confidence interval is [95, 105], while 90%-confidence interval is [90, 110].\n",
    "\n",
    "d. 99%-confidence interval is [99,100]\n",
    "\n",
    "Explain your choices"
   ]
  },
  {
   "cell_type": "markdown",
   "metadata": {},
   "source": [
    "Answer: b c d"
   ]
  },
  {
   "cell_type": "markdown",
   "metadata": {},
   "source": [
    "For b and d, the middle valude of confidence interval should be 100.\n",
    "\n",
    "For c, 98% confidence interval should be wider than 90% confidence interval."
   ]
  },
  {
   "cell_type": "code",
   "execution_count": 1,
   "metadata": {
    "collapsed": true
   },
   "outputs": [],
   "source": [
    "import pandas as pd\n",
    "import numpy as np\n",
    "from sklearn.datasets import make_classification\n",
    "from sklearn.datasets import make_blobs\n",
    "from matplotlib.pylab import plt\n",
    "from sklearn.decomposition import PCA\n",
    "import statsmodels.formula.api as smf\n",
    "from sklearn.model_selection import train_test_split\n",
    "%matplotlib inline\n",
    "import numpy as np\n",
    "from scipy.stats import t"
   ]
  },
  {
   "cell_type": "markdown",
   "metadata": {},
   "source": [
    "### Q3 (15 points). \n",
    "\n",
    "A linear regression model is fit over a dataset with 181 observations and 'n' features. The estimate for the regression coefficient for one of the features is 911.0964 while its standard error is 344.185.\n",
    "\n",
    "What will be the \n",
    "a) 95, 99 and 90% confidence intervals? \n",
    "b) p-values?"
   ]
  },
  {
   "cell_type": "markdown",
   "metadata": {},
   "source": [
    "Answer:\n",
    "$$\n",
    "P\\left(w_j\\in[\\hat{w}_j-t_{\\alpha/2}\\sigma\\sqrt{h_j},\\hat{w}_j+t_{\\alpha/2}\\sigma\\sqrt{h_j}]\\right)=1-\\alpha\n",
    "$$\n",
    "where $t_{\\alpha/2}$ are quantiles of the $t$-distribution, i.e. such values that\n",
    "$$\n",
    "P(|z_j|\\leq t_{\\alpha/2})=1-\\alpha\n",
    "$$\n",
    "$\\hat{w}=911.0964$, $sigma=344.185$, Based on $alpha$ and degree of freedom, we can found the value of  $t_{\\alpha/2}$."
   ]
  },
  {
   "cell_type": "markdown",
   "metadata": {},
   "source": [
    "For example, if n = 11, degree of freedom equals to 170."
   ]
  },
  {
   "cell_type": "code",
   "execution_count": 2,
   "metadata": {
    "collapsed": false
   },
   "outputs": [
    {
     "data": {
      "text/plain": [
       "(231.6694594858202, 1590.5233405141798)"
      ]
     },
     "execution_count": 2,
     "metadata": {},
     "output_type": "execute_result"
    }
   ],
   "source": [
    "# 95% confidence intervals\n",
    "t.interval(0.95, 170, loc = 911.0964, scale = 344.185)"
   ]
  },
  {
   "cell_type": "code",
   "execution_count": 3,
   "metadata": {
    "collapsed": false
   },
   "outputs": [
    {
     "data": {
      "text/plain": [
       "(14.474388642599592, 1807.7184113574003)"
      ]
     },
     "execution_count": 3,
     "metadata": {},
     "output_type": "execute_result"
    }
   ],
   "source": [
    "# 99% confidence intervals\n",
    "t.interval(0.99, 170, loc = 911.0964, scale = 344.185)"
   ]
  },
  {
   "cell_type": "code",
   "execution_count": 4,
   "metadata": {
    "collapsed": false
   },
   "outputs": [
    {
     "data": {
      "text/plain": [
       "(341.86042152802383, 1480.332378471976)"
      ]
     },
     "execution_count": 4,
     "metadata": {},
     "output_type": "execute_result"
    }
   ],
   "source": [
    "# 90% confidence intervals\n",
    "t.interval(0.90, 170, loc = 911.0964, scale = 344.185)"
   ]
  },
  {
   "cell_type": "code",
   "execution_count": 5,
   "metadata": {
    "collapsed": false
   },
   "outputs": [
    {
     "name": "stdout",
     "output_type": "stream",
     "text": [
      "p value is 0.00888130439706\n"
     ]
    }
   ],
   "source": [
    "t_value = (0 - 911.0964) / 344.185\n",
    "p_value = 2 * t.cdf(t_value, 170)\n",
    "print('p value is {}'.format(p_value))"
   ]
  },
  {
   "cell_type": "markdown",
   "metadata": {},
   "source": [
    "### Q4.(ACS Data Set, 30pts)\n",
    "\n",
    "We'll be using the ACS dataset provided below.\n",
    "\n",
    "Survey:           ACS 2015 (5-Year Estimates)\n",
    "Dataset:          Social Explorer Tables:  ACS 2015 (5-Year Estimates)\n",
    "\n",
    "**VARIABLE DESCRIPTIONS:** (Data was collected in 2015)\n",
    "\n",
    "Tables:\n",
    "\n",
    "      1. Population Density (per Sq. Mile)\n",
    "         Universe:  Total Population\n",
    "         Name:      T2\n",
    "         Variables:\n",
    "            T002_001:   Total Population\n",
    "            T002_002:   Population Density (Per Sq. Mile)\n",
    "            T002_003:   Area (Land)\n",
    "\n",
    "\n",
    "      2. Average Household Size\n",
    "         Universe:  Occupied Households\n",
    "         Name:      T21\n",
    "         Variables:\n",
    "            T021_001:   Average Household Size\n",
    "\n",
    "\n",
    "\n",
    "      3. Median Household Income (In <DollarYear> Inflation Adjusted Dollars)\n",
    "         Universe:  Households\n",
    "         Name:      T57\n",
    "         Variables:\n",
    "            T057_001:   Median Household Income (In 2015 Inflation Adjusted Dollars)\n",
    "\n",
    "\n",
    "      4. Per Capita Income (In <DollarYear> Inflation Adjusted Dollars)\n",
    "         Universe:  Total Population\n",
    "         Name:      T83\n",
    "         Variables:\n",
    "            T083_001:   Per Capita Income (In 2015 Inflation Adjusted Dollars)\n",
    "\n",
    " \n",
    "      5. Median Gross Rent\n",
    "          Universe:  Renter-occupied housing units paying cash rent\n",
    "          Name:      T104\n",
    "          Variables:\n",
    "             T104_001:   Median Gross Rent\n",
    "\n",
    "\n",
    "      6. Ratio of Income in 2015 to Poverty Level\n",
    "          Universe:  Population for whom poverty status Is determined\n",
    "          Name:      T117\n",
    "          Variables:\n",
    "             T117_001:   Population for Whom Poverty Status Is Determined:\n",
    "\n",
    "      7. Average Commute to Work (in Min)\n",
    "          Universe:  Average Commute to Work (in min)\n",
    "          Name:      T147\n",
    "          Variables:\n",
    "             T147_001:   Average Commute to Work (in Min)\n",
    "\n",
    "\n",
    "Run the regression modeling the median household income through all the features above and analyse its statistics. Based on the results, suppose X(s) is the predicted median household income for the household of the size s and if deltaX=X(s+1)-X(s) then calculate:\n",
    "* (a) What's the expected price E(X)?\n",
    "* (b) What's the probability that X > \\$15000?  \n",
    "* (c) What's the two-sided 80% confidence interval of X?\n",
    "* (d) What's the one-sided 98% confidence interval of X? Calculate the upper interval $[X_0, +\\infty)$,"
   ]
  },
  {
   "cell_type": "code",
   "execution_count": 6,
   "metadata": {
    "collapsed": false,
    "scrolled": true
   },
   "outputs": [
    {
     "data": {
      "text/html": [
       "<div>\n",
       "<style>\n",
       "    .dataframe thead tr:only-child th {\n",
       "        text-align: right;\n",
       "    }\n",
       "\n",
       "    .dataframe thead th {\n",
       "        text-align: left;\n",
       "    }\n",
       "\n",
       "    .dataframe tbody tr th {\n",
       "        vertical-align: top;\n",
       "    }\n",
       "</style>\n",
       "<table border=\"1\" class=\"dataframe\">\n",
       "  <thead>\n",
       "    <tr style=\"text-align: right;\">\n",
       "      <th></th>\n",
       "      <th>Unnamed: 0</th>\n",
       "      <th>Geo_FIPS</th>\n",
       "      <th>Geo_GEOID</th>\n",
       "      <th>Population_Density</th>\n",
       "      <th>Average_Household_Size</th>\n",
       "      <th>Median_Household_Income</th>\n",
       "      <th>Per_Capita_Income</th>\n",
       "      <th>Median_Value</th>\n",
       "      <th>Poverty_Status</th>\n",
       "      <th>Average_Commute_to_Work</th>\n",
       "    </tr>\n",
       "  </thead>\n",
       "  <tbody>\n",
       "    <tr>\n",
       "      <th>0</th>\n",
       "      <td>2</td>\n",
       "      <td>36061000202</td>\n",
       "      <td>14000US36061000202</td>\n",
       "      <td>67374.02</td>\n",
       "      <td>2.15</td>\n",
       "      <td>29684.0</td>\n",
       "      <td>27355.0</td>\n",
       "      <td>533600.0</td>\n",
       "      <td>7768</td>\n",
       "      <td>31.0</td>\n",
       "    </tr>\n",
       "    <tr>\n",
       "      <th>1</th>\n",
       "      <td>4</td>\n",
       "      <td>36061000600</td>\n",
       "      <td>14000US36061000600</td>\n",
       "      <td>128089.30</td>\n",
       "      <td>2.92</td>\n",
       "      <td>19863.0</td>\n",
       "      <td>12802.0</td>\n",
       "      <td>521200.0</td>\n",
       "      <td>12378</td>\n",
       "      <td>30.0</td>\n",
       "    </tr>\n",
       "    <tr>\n",
       "      <th>2</th>\n",
       "      <td>5</td>\n",
       "      <td>36061000700</td>\n",
       "      <td>14000US36061000700</td>\n",
       "      <td>89695.05</td>\n",
       "      <td>1.92</td>\n",
       "      <td>117841.0</td>\n",
       "      <td>89303.0</td>\n",
       "      <td>1035900.0</td>\n",
       "      <td>8794</td>\n",
       "      <td>25.0</td>\n",
       "    </tr>\n",
       "    <tr>\n",
       "      <th>3</th>\n",
       "      <td>6</td>\n",
       "      <td>36061000800</td>\n",
       "      <td>14000US36061000800</td>\n",
       "      <td>112643.90</td>\n",
       "      <td>2.63</td>\n",
       "      <td>27137.0</td>\n",
       "      <td>17426.0</td>\n",
       "      <td>588100.0</td>\n",
       "      <td>9465</td>\n",
       "      <td>33.0</td>\n",
       "    </tr>\n",
       "    <tr>\n",
       "      <th>4</th>\n",
       "      <td>7</td>\n",
       "      <td>36061000900</td>\n",
       "      <td>14000US36061000900</td>\n",
       "      <td>12507.00</td>\n",
       "      <td>2.14</td>\n",
       "      <td>147500.0</td>\n",
       "      <td>111599.0</td>\n",
       "      <td>1000000.0</td>\n",
       "      <td>1626</td>\n",
       "      <td>26.0</td>\n",
       "    </tr>\n",
       "  </tbody>\n",
       "</table>\n",
       "</div>"
      ],
      "text/plain": [
       "   Unnamed: 0     Geo_FIPS           Geo_GEOID  Population_Density  \\\n",
       "0           2  36061000202  14000US36061000202            67374.02   \n",
       "1           4  36061000600  14000US36061000600           128089.30   \n",
       "2           5  36061000700  14000US36061000700            89695.05   \n",
       "3           6  36061000800  14000US36061000800           112643.90   \n",
       "4           7  36061000900  14000US36061000900            12507.00   \n",
       "\n",
       "   Average_Household_Size  Median_Household_Income  Per_Capita_Income  \\\n",
       "0                    2.15                  29684.0            27355.0   \n",
       "1                    2.92                  19863.0            12802.0   \n",
       "2                    1.92                 117841.0            89303.0   \n",
       "3                    2.63                  27137.0            17426.0   \n",
       "4                    2.14                 147500.0           111599.0   \n",
       "\n",
       "   Median_Value  Poverty_Status  Average_Commute_to_Work  \n",
       "0      533600.0            7768                     31.0  \n",
       "1      521200.0           12378                     30.0  \n",
       "2     1035900.0            8794                     25.0  \n",
       "3      588100.0            9465                     33.0  \n",
       "4     1000000.0            1626                     26.0  "
      ]
     },
     "execution_count": 6,
     "metadata": {},
     "output_type": "execute_result"
    }
   ],
   "source": [
    "df = pd.read_csv('file4.csv')\n",
    "df.head()"
   ]
  },
  {
   "cell_type": "code",
   "execution_count": 7,
   "metadata": {
    "collapsed": false
   },
   "outputs": [
    {
     "data": {
      "text/html": [
       "<table class=\"simpletable\">\n",
       "<caption>OLS Regression Results</caption>\n",
       "<tr>\n",
       "  <th>Dep. Variable:</th>    <td>Median_Household_Income</td> <th>  R-squared:         </th> <td>   0.832</td>\n",
       "</tr>\n",
       "<tr>\n",
       "  <th>Model:</th>                      <td>OLS</td>           <th>  Adj. R-squared:    </th> <td>   0.827</td>\n",
       "</tr>\n",
       "<tr>\n",
       "  <th>Method:</th>                <td>Least Squares</td>      <th>  F-statistic:       </th> <td>   182.6</td>\n",
       "</tr>\n",
       "<tr>\n",
       "  <th>Date:</th>                <td>Tue, 07 Nov 2017</td>     <th>  Prob (F-statistic):</th> <td>6.22e-83</td>\n",
       "</tr>\n",
       "<tr>\n",
       "  <th>Time:</th>                    <td>02:01:27</td>         <th>  Log-Likelihood:    </th> <td> -2585.8</td>\n",
       "</tr>\n",
       "<tr>\n",
       "  <th>No. Observations:</th>         <td>   229</td>          <th>  AIC:               </th> <td>   5186.</td>\n",
       "</tr>\n",
       "<tr>\n",
       "  <th>Df Residuals:</th>             <td>   222</td>          <th>  BIC:               </th> <td>   5210.</td>\n",
       "</tr>\n",
       "<tr>\n",
       "  <th>Df Model:</th>                 <td>     6</td>          <th>                     </th>     <td> </td>   \n",
       "</tr>\n",
       "<tr>\n",
       "  <th>Covariance Type:</th>         <td>nonrobust</td>        <th>                     </th>     <td> </td>   \n",
       "</tr>\n",
       "</table>\n",
       "<table class=\"simpletable\">\n",
       "<tr>\n",
       "             <td></td>                <th>coef</th>     <th>std err</th>      <th>t</th>      <th>P>|t|</th>  <th>[0.025</th>    <th>0.975]</th>  \n",
       "</tr>\n",
       "<tr>\n",
       "  <th>Intercept</th>               <td> 1.535e+04</td> <td> 1.24e+04</td> <td>    1.234</td> <td> 0.219</td> <td>-9165.448</td> <td> 3.99e+04</td>\n",
       "</tr>\n",
       "<tr>\n",
       "  <th>Population_Density</th>      <td>    0.0318</td> <td>    0.041</td> <td>    0.768</td> <td> 0.443</td> <td>   -0.050</td> <td>    0.113</td>\n",
       "</tr>\n",
       "<tr>\n",
       "  <th>Average_Household_Size</th>  <td> 1.121e+04</td> <td> 4621.474</td> <td>    2.426</td> <td> 0.016</td> <td> 2104.409</td> <td> 2.03e+04</td>\n",
       "</tr>\n",
       "<tr>\n",
       "  <th>Per_Capita_Income</th>       <td>    0.9073</td> <td>    0.049</td> <td>   18.392</td> <td> 0.000</td> <td>    0.810</td> <td>    1.005</td>\n",
       "</tr>\n",
       "<tr>\n",
       "  <th>Median_Value</th>            <td>    0.0043</td> <td>    0.004</td> <td>    1.085</td> <td> 0.279</td> <td>   -0.004</td> <td>    0.012</td>\n",
       "</tr>\n",
       "<tr>\n",
       "  <th>Poverty_Status</th>          <td>   -0.8155</td> <td>    0.603</td> <td>   -1.353</td> <td> 0.177</td> <td>   -2.003</td> <td>    0.372</td>\n",
       "</tr>\n",
       "<tr>\n",
       "  <th>Average_Commute_to_Work</th> <td> -612.3823</td> <td>  324.227</td> <td>   -1.889</td> <td> 0.060</td> <td>-1251.338</td> <td>   26.574</td>\n",
       "</tr>\n",
       "</table>\n",
       "<table class=\"simpletable\">\n",
       "<tr>\n",
       "  <th>Omnibus:</th>       <td>34.484</td> <th>  Durbin-Watson:     </th> <td>   2.067</td>\n",
       "</tr>\n",
       "<tr>\n",
       "  <th>Prob(Omnibus):</th> <td> 0.000</td> <th>  Jarque-Bera (JB):  </th> <td>  84.301</td>\n",
       "</tr>\n",
       "<tr>\n",
       "  <th>Skew:</th>          <td> 0.678</td> <th>  Prob(JB):          </th> <td>4.95e-19</td>\n",
       "</tr>\n",
       "<tr>\n",
       "  <th>Kurtosis:</th>      <td> 5.645</td> <th>  Cond. No.          </th> <td>9.98e+06</td>\n",
       "</tr>\n",
       "</table>"
      ],
      "text/plain": [
       "<class 'statsmodels.iolib.summary.Summary'>\n",
       "\"\"\"\n",
       "                               OLS Regression Results                              \n",
       "===================================================================================\n",
       "Dep. Variable:     Median_Household_Income   R-squared:                       0.832\n",
       "Model:                                 OLS   Adj. R-squared:                  0.827\n",
       "Method:                      Least Squares   F-statistic:                     182.6\n",
       "Date:                     Tue, 07 Nov 2017   Prob (F-statistic):           6.22e-83\n",
       "Time:                             02:01:27   Log-Likelihood:                -2585.8\n",
       "No. Observations:                      229   AIC:                             5186.\n",
       "Df Residuals:                          222   BIC:                             5210.\n",
       "Df Model:                                6                                         \n",
       "Covariance Type:                 nonrobust                                         \n",
       "===========================================================================================\n",
       "                              coef    std err          t      P>|t|      [0.025      0.975]\n",
       "-------------------------------------------------------------------------------------------\n",
       "Intercept                1.535e+04   1.24e+04      1.234      0.219   -9165.448    3.99e+04\n",
       "Population_Density          0.0318      0.041      0.768      0.443      -0.050       0.113\n",
       "Average_Household_Size   1.121e+04   4621.474      2.426      0.016    2104.409    2.03e+04\n",
       "Per_Capita_Income           0.9073      0.049     18.392      0.000       0.810       1.005\n",
       "Median_Value                0.0043      0.004      1.085      0.279      -0.004       0.012\n",
       "Poverty_Status             -0.8155      0.603     -1.353      0.177      -2.003       0.372\n",
       "Average_Commute_to_Work  -612.3823    324.227     -1.889      0.060   -1251.338      26.574\n",
       "==============================================================================\n",
       "Omnibus:                       34.484   Durbin-Watson:                   2.067\n",
       "Prob(Omnibus):                  0.000   Jarque-Bera (JB):               84.301\n",
       "Skew:                           0.678   Prob(JB):                     4.95e-19\n",
       "Kurtosis:                       5.645   Cond. No.                     9.98e+06\n",
       "==============================================================================\n",
       "\n",
       "Warnings:\n",
       "[1] Standard Errors assume that the covariance matrix of the errors is correctly specified.\n",
       "[2] The condition number is large, 9.98e+06. This might indicate that there are\n",
       "strong multicollinearity or other numerical problems.\n",
       "\"\"\""
      ]
     },
     "execution_count": 7,
     "metadata": {},
     "output_type": "execute_result"
    }
   ],
   "source": [
    "lm1 = smf.ols(formula = 'Median_Household_Income ~ Population_Density + Average_Household_Size + Per_Capita_Income + Median_Value \\\n",
    "              + Poverty_Status + Average_Commute_to_Work', data = df).fit()\n",
    "lm1.summary()"
   ]
  },
  {
   "cell_type": "markdown",
   "metadata": {},
   "source": [
    "(a) What's the expected price E(X)?"
   ]
  },
  {
   "cell_type": "code",
   "execution_count": 8,
   "metadata": {
    "collapsed": false
   },
   "outputs": [
    {
     "data": {
      "text/plain": [
       "11211.9816400572"
      ]
     },
     "execution_count": 8,
     "metadata": {},
     "output_type": "execute_result"
    }
   ],
   "source": [
    "lm1.params['Average_Household_Size']"
   ]
  },
  {
   "cell_type": "markdown",
   "metadata": {},
   "source": [
    "(b) What's the probability that X > \\$15000?  "
   ]
  },
  {
   "cell_type": "code",
   "execution_count": 9,
   "metadata": {
    "collapsed": false
   },
   "outputs": [
    {
     "name": "stdout",
     "output_type": "stream",
     "text": [
      "probability that X > $15000 is 20.6645700896 %\n"
     ]
    }
   ],
   "source": [
    "t1 = (15000 - lm1.params['Average_Household_Size']) / lm1.bse['Average_Household_Size']\n",
    "p1 = t.sf(t1, lm1.df_resid)\n",
    "print(\"probability that X > $15000 is {} %\".format((p1*100)))"
   ]
  },
  {
   "cell_type": "markdown",
   "metadata": {},
   "source": [
    "(c) What's the two-sided 80% confidence interval of X?"
   ]
  },
  {
   "cell_type": "code",
   "execution_count": 10,
   "metadata": {
    "collapsed": false
   },
   "outputs": [
    {
     "name": "stdout",
     "output_type": "stream",
     "text": [
      "[5271.647227,17152.316054]\n"
     ]
    }
   ],
   "source": [
    "# Two-sided CI\n",
    "q = (1-0.8)/2\n",
    "lowerBound = t.ppf(q, lm1.df_resid) * lm1.bse['Average_Household_Size'] + lm1.params['Average_Household_Size']\n",
    "upperBound = t.isf(q, lm1.df_resid) * lm1.bse['Average_Household_Size'] + lm1.params['Average_Household_Size']\n",
    "print('[%f,%f]'%(lowerBound,upperBound))"
   ]
  },
  {
   "cell_type": "markdown",
   "metadata": {},
   "source": [
    "(d) What's the one-sided 98% confidence interval of X? Calculate the upper interval $[X_0, +\\infty)$"
   ]
  },
  {
   "cell_type": "code",
   "execution_count": 11,
   "metadata": {
    "collapsed": false
   },
   "outputs": [
    {
     "name": "stdout",
     "output_type": "stream",
     "text": [
      "[1664.542405,inf)\n"
     ]
    }
   ],
   "source": [
    "# One-sided CI\n",
    "q = 1-0.98\n",
    "upperBound = t.ppf(q, lm1.df_resid) * lm1.bse['Average_Household_Size'] + lm1.params['Average_Household_Size']\n",
    "print('[%f,inf)'%(upperBound))"
   ]
  },
  {
   "cell_type": "markdown",
   "metadata": {},
   "source": [
    "### Q5 (30 points). Data visualization using PCA\n",
    "We'll be using the breast cancer dataset from sklearn for this problem.\n",
    "\n",
    "a) For the given labeled data perform PCA and visualize (using bar-plot) the fraction of variance explained by each principle components.\n",
    "\n",
    "b) Visualize the observations along the first two principle components with colors depending on the label."
   ]
  },
  {
   "cell_type": "code",
   "execution_count": 12,
   "metadata": {
    "collapsed": true
   },
   "outputs": [],
   "source": [
    "from sklearn.datasets import load_breast_cancer\n",
    "X, y = load_breast_cancer(return_X_y=True)"
   ]
  },
  {
   "cell_type": "code",
   "execution_count": 13,
   "metadata": {
    "collapsed": false
   },
   "outputs": [
    {
     "name": "stdout",
     "output_type": "stream",
     "text": [
      "(569, 30) 569\n"
     ]
    }
   ],
   "source": [
    "print X.shape, len(y)"
   ]
  },
  {
   "cell_type": "code",
   "execution_count": 14,
   "metadata": {
    "collapsed": false
   },
   "outputs": [
    {
     "name": "stdout",
     "output_type": "stream",
     "text": [
      "Explained Variance Ratio is: [  9.82044672e-01   1.61764899e-02   1.55751075e-03   1.20931964e-04]\n"
     ]
    },
    {
     "data": {
      "image/png": "[encoded data removed]",
      "text/plain": [
       "<matplotlib.figure.Figure at 0x7fca68535a50>"
      ]
     },
     "metadata": {},
     "output_type": "display_data"
    }
   ],
   "source": [
    "n=4 # how many eigenvectors we choose\n",
    "from sklearn.decomposition import PCA\n",
    "pca = PCA(n)\n",
    "Xproj = pca.fit_transform(X)\n",
    "eigenvalues = pca.explained_variance_\n",
    "print ('Explained Variance Ratio is: {}'.format(pca.explained_variance_ratio_))\n",
    "plt.bar(np.arange(n), eigenvalues);\n",
    "plt.xlabel(\"Dimensionality\")\n",
    "plt.ylabel(\"Variance\")\n",
    "plt.show()"
   ]
  },
  {
   "cell_type": "code",
   "execution_count": 15,
   "metadata": {
    "collapsed": false
   },
   "outputs": [
    {
     "data": {
      "text/plain": [
       "<matplotlib.legend.Legend at 0x7fca62fedf90>"
      ]
     },
     "execution_count": 15,
     "metadata": {},
     "output_type": "execute_result"
    },
    {
     "data": {
      "image/png": "[encoded data removed]",
      "text/plain": [
       "<matplotlib.figure.Figure at 0x7fca63016290>"
      ]
     },
     "metadata": {},
     "output_type": "display_data"
    }
   ],
   "source": [
    "#2-d plot\n",
    "colors=('blue','red')\n",
    "fig = plt.figure(figsize=(10,10))\n",
    "for d in range(0,2):\n",
    "    plt.plot(np.array(Xproj[y==d,0]), np.array(Xproj[y==d,1]),\n",
    "        'o', color=colors[d], alpha=0.8, label=d)\n",
    "plt.legend(['y=0','y=1'],bbox_to_anchor=(1, 1))"
   ]
  },
  {
   "cell_type": "code",
   "execution_count": null,
   "metadata": {
    "collapsed": true
   },
   "outputs": [],
   "source": []
  }
 ],
 "metadata": {
  "kernelspec": {
   "display_name": "Python 2",
   "language": "python",
   "name": "python2"
  },
  "language_info": {
   "codemirror_mode": {
    "name": "ipython",
    "version": 2
   },
   "file_extension": ".py",
   "mimetype": "text/x-python",
   "name": "python",
   "nbconvert_exporter": "python",
   "pygments_lexer": "ipython2",
   "version": "2.7.11"
  }
 },
 "nbformat": 4,
 "nbformat_minor": 1
}
